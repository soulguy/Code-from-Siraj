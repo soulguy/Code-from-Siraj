{
 "cells": [
  {
   "cell_type": "code",
   "execution_count": 5,
   "metadata": {},
   "outputs": [],
   "source": [
    "import numpy as np \n",
    "# 创建激活函数，能把任意值映射到0-1之间 作为输出\n",
    "def sigmodfunction(x,deriv=False):\n",
    "    # 返回sigmod函数的导数\n",
    "    if(deriv==True):\n",
    "        return x*(1-x)         \n",
    "    return 1/(1+np.exp(-x))"
   ]
  },
  {
   "cell_type": "code",
   "execution_count": 6,
   "metadata": {},
   "outputs": [],
   "source": [
    "# 创建输入数据X \n",
    "X = np.array([[0,0,1],\n",
    "              [0,1,1],\n",
    "              [1,0,1],\n",
    "              [1,1,1]])\n",
    "# 创建输出数据Y\n",
    "Y = np.array([[0],\n",
    "             [1],\n",
    "             [1],\n",
    "             [0]])\n",
    "\n",
    "# 每次运行随机产生相同的参数\n",
    "np.random.seed(1)\n",
    "\n",
    "#为每个突触随机分配权重\n",
    "syn0 = 2*np.random.random((3,4)) - 1\n",
    "syn1 = 2*np.random.random((4,1)) - 1 "
   ]
  },
  {
   "cell_type": "code",
   "execution_count": null,
   "metadata": {},
   "outputs": [],
   "source": [
    "# training code \n",
    "# 创建一个for循环 不断地把创建的数据放入进行训练，优化网络\n",
    "for i in range(60000):\n",
    "    L0 = x\n",
    "    L1 = sigmodfunction(np.dot(L0,syn0))\n",
    "    L2 = sigmodfunction(np.dot(L1,syn1))\n",
    "    # 获得L2层和实际的偏差\n",
    "    L2_error = y - L2\n",
    "    if i%1000==0:\n",
    "        # 输出平均偏差值（绝对值）\n",
    "        print('error'+str(np.mean(np.abs(L2_error))))\n",
    "    # 计算第二层输出的导数 为我们降低预测的错误率 \n",
    "    L2_delta = L2_error*sigmodfunction(L2,deriv=True)\n",
    "    L1_error = L2_error.dot(syn1.T)\n",
    "    L1_delta = L1_error*sigmodfunction(L1,deriv=True)\n",
    "    \n",
    "    # update weights\n",
    "    syn1 += np.dot(L1.T,L2_delta)\n",
    "    syn0 += np.dot(L0.T,L1_delta)\n",
    "    print(\"output after training\")\n",
    "    print(L2)"
   ]
  }
 ],
 "metadata": {
  "kernelspec": {
   "display_name": "Python (base)",
   "language": "python",
   "name": "base"
  },
  "language_info": {
   "codemirror_mode": {
    "name": "ipython",
    "version": 3
   },
   "file_extension": ".py",
   "mimetype": "text/x-python",
   "name": "python",
   "nbconvert_exporter": "python",
   "pygments_lexer": "ipython3",
   "version": "3.6.4"
  }
 },
 "nbformat": 4,
 "nbformat_minor": 2
}

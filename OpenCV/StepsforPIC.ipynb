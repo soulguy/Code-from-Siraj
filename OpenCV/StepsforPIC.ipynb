{
 "cells": [
  {
   "cell_type": "code",
   "execution_count": 1,
   "metadata": {},
   "outputs": [
    {
     "name": "stderr",
     "output_type": "stream",
     "text": [
      "/anaconda3/lib/python3.6/site-packages/h5py/__init__.py:36: FutureWarning: Conversion of the second argument of issubdtype from `float` to `np.floating` is deprecated. In future, it will be treated as `np.float64 == np.dtype(float).type`.\n",
      "  from ._conv import register_converters as _register_converters\n"
     ]
    },
    {
     "ename": "error",
     "evalue": "OpenCV(3.4.3) /Users/travis/build/skvark/opencv-python/opencv/modules/imgproc/src/color.cpp:181: error: (-215:Assertion failed) !_src.empty() in function 'cvtColor'\n",
     "output_type": "error",
     "traceback": [
      "\u001b[0;31m---------------------------------------------------------------------------\u001b[0m",
      "\u001b[0;31merror\u001b[0m                                     Traceback (most recent call last)",
      "\u001b[0;32m<ipython-input-1-8b60702a2bd9>\u001b[0m in \u001b[0;36m<module>\u001b[0;34m()\u001b[0m\n\u001b[1;32m     83\u001b[0m \u001b[0;31m# read the iamge in 3 lines\u001b[0m\u001b[0;34m\u001b[0m\u001b[0;34m\u001b[0m\u001b[0m\n\u001b[1;32m     84\u001b[0m \u001b[0mimage\u001b[0m \u001b[0;34m=\u001b[0m \u001b[0mcv2\u001b[0m\u001b[0;34m.\u001b[0m\u001b[0mimread\u001b[0m\u001b[0;34m(\u001b[0m\u001b[0;34m'/User/tequila2411/Desktop/art.png'\u001b[0m\u001b[0;34m)\u001b[0m\u001b[0;34m\u001b[0m\u001b[0m\n\u001b[0;32m---> 85\u001b[0;31m \u001b[0mresult\u001b[0m \u001b[0;34m=\u001b[0m \u001b[0mfind_starrwberry\u001b[0m\u001b[0;34m(\u001b[0m\u001b[0mimage\u001b[0m\u001b[0;34m)\u001b[0m\u001b[0;34m\u001b[0m\u001b[0m\n\u001b[0m\u001b[1;32m     86\u001b[0m \u001b[0;31m# write the new image\u001b[0m\u001b[0;34m\u001b[0m\u001b[0;34m\u001b[0m\u001b[0m\n\u001b[1;32m     87\u001b[0m \u001b[0mcv2\u001b[0m\u001b[0;34m.\u001b[0m\u001b[0mimwrite\u001b[0m\u001b[0;34m(\u001b[0m\u001b[0;34m'/User/tequila2411/Desktop/art2.png'\u001b[0m\u001b[0;34m,\u001b[0m\u001b[0mresult\u001b[0m\u001b[0;34m)\u001b[0m\u001b[0;34m\u001b[0m\u001b[0m\n",
      "\u001b[0;32m<ipython-input-1-8b60702a2bd9>\u001b[0m in \u001b[0;36mfind_starrwberry\u001b[0;34m(image)\u001b[0m\n\u001b[1;32m     41\u001b[0m \u001b[0;34m\u001b[0m\u001b[0m\n\u001b[1;32m     42\u001b[0m     \u001b[0;31m# step 1 convert to the correct color scheme\u001b[0m\u001b[0;34m\u001b[0m\u001b[0;34m\u001b[0m\u001b[0m\n\u001b[0;32m---> 43\u001b[0;31m     \u001b[0mimage\u001b[0m \u001b[0;34m=\u001b[0m\u001b[0mcv2\u001b[0m\u001b[0;34m.\u001b[0m\u001b[0mcvtColor\u001b[0m\u001b[0;34m(\u001b[0m\u001b[0mimage\u001b[0m\u001b[0;34m,\u001b[0m\u001b[0mcv2\u001b[0m\u001b[0;34m.\u001b[0m\u001b[0mCOLOR_RGB2BGR\u001b[0m\u001b[0;34m)\u001b[0m\u001b[0;34m\u001b[0m\u001b[0m\n\u001b[0m\u001b[1;32m     44\u001b[0m     \u001b[0mmax_dimension\u001b[0m \u001b[0;34m=\u001b[0m\u001b[0mmax\u001b[0m\u001b[0;34m(\u001b[0m\u001b[0mimage\u001b[0m\u001b[0;34m.\u001b[0m\u001b[0mshape\u001b[0m\u001b[0;34m)\u001b[0m\u001b[0;34m\u001b[0m\u001b[0m\n\u001b[1;32m     45\u001b[0m \u001b[0;34m\u001b[0m\u001b[0m\n",
      "\u001b[0;31merror\u001b[0m: OpenCV(3.4.3) /Users/travis/build/skvark/opencv-python/opencv/modules/imgproc/src/color.cpp:181: error: (-215:Assertion failed) !_src.empty() in function 'cvtColor'\n"
     ]
    }
   ],
   "source": [
    "import cv2\n",
    "import tensorflow as tf\n",
    "import matplotlib.pyplot as plt\n",
    "import numpy as np\n",
    "import sklearn as sk\n",
    "from math import sin,cos\n",
    "from __future__ import division\n",
    "green = (0,255,0)\n",
    "def show(image):\n",
    "    plt.figure(figsize=(10,10))\n",
    "    plt.imhow(image,interpolation ='nearest')\n",
    "\n",
    "def overlay_mask(mask,image):\n",
    "    rbg_mask = cv2.cvtColor(image,cv2.COLOR_GRAY2RGB)\n",
    "    img = cv2.addWeighted(rbg_mask,0.5,image,0.5,0)\n",
    "    return img\n",
    "\n",
    "def find_biggest_contour(image):\n",
    "    # copy the image\n",
    "    image = image.copy()\n",
    "    contours,hierarchy =cv2.findContours(image,cv2.RETR_LIST,cv2.CHAIN_APPROX_SIMPLE)\n",
    "\n",
    "    #isolating the biggest contour\n",
    "    contour_size = [(cv2.contourArea(contour),contour) for contour in contours]\n",
    "    biggest_contour =max(contour_size,key=lambda x:x[0])[1]\n",
    "    mask = np.zeros(image.shape,np.uint8)\n",
    "    cv2.drawContours(mask,[biggest_contour],-1,255,-1)\n",
    "    return biggest_contour,mask\n",
    "def circle_contour(image,contour):\n",
    "    # bounding ellipse\n",
    "    image_with_ellipse = image.copy()\n",
    "    ellipse = cv2.fitEllipse(contour)\n",
    "    # add it\n",
    "    cv2.ellipse(image_with_ellipse,ellipse,green,2,cv2.CV_AA)\n",
    "    return image_with_ellipse\n",
    "\n",
    "\n",
    "def find_starrwberry(image):\n",
    "    #RGB is red green blue\n",
    "    #BGR is blue green red\n",
    "\n",
    "    # step 1 convert to the correct color scheme\n",
    "    image =cv2.cvtColor(image,cv2.COLOR_RGB2BGR)\n",
    "    max_dimension =max(image.shape)\n",
    "\n",
    "    # step 2 scale the image size property\n",
    "    scale = 700/max_dimension\n",
    "    image = cv2.resize(image,None,fx=scale,fy=scale)\n",
    "\n",
    "    # step 3 clean our image\n",
    "    image_blur = cv2.GaussianBlur(image,(7,7),0)\n",
    "    image_blur_hsv = cv2.cvtColor(image_blur,cv2.COLOR_RGB2HSV)\n",
    "\n",
    "    # step 4 define the filter\n",
    "    # filter by the color\n",
    "    min_red = np.array([0,100,80])\n",
    "    max_red = np.array([10,256,256])\n",
    "    mask1 = cv2.inRange(image_blur_hsv,min_red,max_red)\n",
    "    min_red2 = np.array([170,100,100])\n",
    "    max_red2 = np.array([180,256,256])\n",
    "    mask2 = cv2.inRange(image_blur_hsv,min_red2,max_red2)\n",
    "    mask = mask1 + mask2\n",
    "\n",
    "    # step 5 segmentation\n",
    "    kernel = cv2.getStructuringElement(cv2.MORPH_ELLIPSE,(15,15))\n",
    "    mask_close = cv2.morphologyEx(mask,cv2.MORPH_CLOSE,kernel)\n",
    "    mask_clean = cv2.morphologyEx(mask_close,cv2.MORPH_OPEN,kernel)\n",
    "\n",
    "    # step 6 find the biggeest starrwberry\n",
    "    big_starwburry_contour,mask_starrwburries = find_biggest_contour(mask_clean)\n",
    "\n",
    "    # step 7 overlay the masks that we created in the image\n",
    "    overlay = overlay_mask(mask_clean,image)\n",
    "\n",
    "    # step 8 circle the biggest starrwburry\n",
    "    circled = circle_contour(overlay,big_starwburry_contour)\n",
    "    show(circled)\n",
    "\n",
    "    # step 9 last step that we convert back to the original color scheme\n",
    "    bgr = cv2.cvtColor(circled,cv2.COLOR_BGR2RGB)\n",
    "    return bgr\n",
    "\n",
    "# read the iamge in 3 lines\n",
    "image = cv2.imread('/User/tequila2411/Desktop/art.png')\n",
    "result = find_starrwberry(image)\n",
    "# write the new image\n",
    "cv2.imwrite('/User/tequila2411/Desktop/art2.png',result)"
   ]
  },
  {
   "cell_type": "code",
   "execution_count": null,
   "metadata": {},
   "outputs": [],
   "source": []
  }
 ],
 "metadata": {
  "kernelspec": {
   "display_name": "Python (base)",
   "language": "python",
   "name": "base"
  },
  "language_info": {
   "codemirror_mode": {
    "name": "ipython",
    "version": 3
   },
   "file_extension": ".py",
   "mimetype": "text/x-python",
   "name": "python",
   "nbconvert_exporter": "python",
   "pygments_lexer": "ipython3",
   "version": "3.6.4"
  }
 },
 "nbformat": 4,
 "nbformat_minor": 2
}
